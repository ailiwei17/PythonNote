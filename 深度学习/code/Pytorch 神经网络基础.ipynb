{
 "cells": [
  {
   "cell_type": "markdown",
   "id": "18a5fcb7",
   "metadata": {},
   "source": [
    "### 模型构造"
   ]
  },
  {
   "cell_type": "code",
   "execution_count": 4,
   "id": "ed8faeca",
   "metadata": {},
   "outputs": [
    {
     "data": {
      "text/plain": [
       "tensor([[-0.0203,  0.0410, -0.2032,  0.0953, -0.1609, -0.1441, -0.0050,  0.0776,\n",
       "          0.0980,  0.1293],\n",
       "        [ 0.0806, -0.0434, -0.2489,  0.0219, -0.1752, -0.0655,  0.0977,  0.1105,\n",
       "          0.1724,  0.0391]], grad_fn=<AddmmBackward0>)"
      ]
     },
     "execution_count": 4,
     "metadata": {},
     "output_type": "execute_result"
    }
   ],
   "source": [
    "import torch\n",
    "from torch import nn\n",
    "from torch.nn import functional as F\n",
    "\n",
    "net = nn.Sequential(nn.Linear(20, 256),\n",
    "                    nn.ReLU(),\n",
    "                    nn.Linear(256, 10))\n",
    "# 2是批量\n",
    "x = torch.rand(2, 20)\n",
    "net(x)"
   ]
  },
  {
   "cell_type": "code",
   "execution_count": 5,
   "id": "91b976d9",
   "metadata": {},
   "outputs": [],
   "source": [
    "class MLP(nn.Module):\n",
    "    def __init__(self):\n",
    "        super().__init__()\n",
    "        self.hidden = nn.Linear(20, 256)\n",
    "        self.out = nn.Linear(256, 10)\n",
    "        \n",
    "    def forward(self, X):\n",
    "        return self.out(F.relu(self.hidden(X)))\n",
    "        "
   ]
  },
  {
   "cell_type": "code",
   "execution_count": 6,
   "id": "80a99c5a",
   "metadata": {},
   "outputs": [
    {
     "data": {
      "text/plain": [
       "tensor([[ 0.0330, -0.0497,  0.1067, -0.0009,  0.1323,  0.1083,  0.1006, -0.1845,\n",
       "          0.1732,  0.0159],\n",
       "        [ 0.0327, -0.1661,  0.0742, -0.0575,  0.1296,  0.0267,  0.1361, -0.1510,\n",
       "          0.1024, -0.0115]], grad_fn=<AddmmBackward0>)"
      ]
     },
     "execution_count": 6,
     "metadata": {},
     "output_type": "execute_result"
    }
   ],
   "source": [
    "net = MLP()\n",
    "net(x)"
   ]
  },
  {
   "cell_type": "code",
   "execution_count": 12,
   "id": "be17eefb",
   "metadata": {},
   "outputs": [
    {
     "data": {
      "text/plain": [
       "tensor([[-0.2693,  0.3937,  0.0385, -0.6000,  0.1997, -0.2415, -0.3407,  0.3382,\n",
       "          0.0789,  0.4627],\n",
       "        [-0.0206,  0.4341,  0.1335, -0.6900,  0.3566, -0.2355, -0.2501,  0.4289,\n",
       "          0.0290,  0.1454]], grad_fn=<AddmmBackward0>)"
      ]
     },
     "execution_count": 12,
     "metadata": {},
     "output_type": "execute_result"
    }
   ],
   "source": [
    "class MySequential(nn.Module):\n",
    "    def __init__(self, *args):\n",
    "        super().__init__()\n",
    "        for block in args:\n",
    "            self._modules[block] = block\n",
    "            \n",
    "    def forward(self, X):\n",
    "        for block in self._modules.values():\n",
    "            X = block(X)\n",
    "        return X\n",
    "        \n",
    "net = MySequential(nn.Linear(20, 10))\n",
    "net(x)"
   ]
  },
  {
   "cell_type": "markdown",
   "id": "7e7f142b",
   "metadata": {},
   "source": [
    "定义更加灵活的块"
   ]
  },
  {
   "cell_type": "code",
   "execution_count": 14,
   "id": "2abac128",
   "metadata": {},
   "outputs": [
    {
     "data": {
      "text/plain": [
       "tensor([[-0.2837,  0.0798,  0.2018,  0.1719, -0.2417,  0.2890,  0.1608,  0.1571,\n",
       "          0.1869, -0.1019],\n",
       "        [-0.3181,  0.0933,  0.1251,  0.2260, -0.1404,  0.3540,  0.1452, -0.0476,\n",
       "          0.3948, -0.1434]], grad_fn=<AddmmBackward0>)"
      ]
     },
     "execution_count": 14,
     "metadata": {},
     "output_type": "execute_result"
    }
   ],
   "source": [
    "class FixedHiddenMLP(nn.Module):\n",
    "    def __init__(self):\n",
    "        super().__init__()\n",
    "        self.rand_weight = torch.rand((10, 20), requires_grad = False)\n",
    "        self.Linear = nn.Linear(20, 10)\n",
    "        \n",
    "    def forward(self, X):\n",
    "        X = self.Linear(X)\n",
    "        X = torch.mm(X, self.rand_weight)\n",
    "        X = self.Linear(X)\n",
    "        return X\n",
    "    \n",
    "net = FixedHiddenMLP()\n",
    "net(x)"
   ]
  },
  {
   "cell_type": "markdown",
   "id": "a6dd392d",
   "metadata": {},
   "source": [
    "### 参数访问"
   ]
  },
  {
   "cell_type": "code",
   "execution_count": 16,
   "id": "e32b9c79",
   "metadata": {},
   "outputs": [
    {
     "data": {
      "text/plain": [
       "tensor([[ 0.1544,  0.0381, -0.3023,  0.0227],\n",
       "        [ 0.1884,  0.1420, -0.2369,  0.0068]], grad_fn=<AddmmBackward0>)"
      ]
     },
     "execution_count": 16,
     "metadata": {},
     "output_type": "execute_result"
    }
   ],
   "source": [
    "import torch\n",
    "from torch import nn\n",
    "\n",
    "net = nn.Sequential(nn.Linear(4, 8), nn.ReLU(), nn.Linear(8, 4))\n",
    "x = torch.rand(2, 4)\n",
    "net(x)"
   ]
  },
  {
   "cell_type": "code",
   "execution_count": 21,
   "id": "73b6c549",
   "metadata": {},
   "outputs": [
    {
     "name": "stdout",
     "output_type": "stream",
     "text": [
      "OrderedDict([('weight', tensor([[-0.3046,  0.1477,  0.1656,  0.1473, -0.0522, -0.1839, -0.2142, -0.1239],\n",
      "        [-0.2866,  0.2416, -0.1178, -0.1498,  0.0545, -0.2755, -0.2097, -0.0272],\n",
      "        [ 0.0259, -0.0271, -0.3413, -0.2285,  0.1450,  0.1057,  0.3014,  0.2714],\n",
      "        [-0.0348,  0.0826,  0.1509,  0.2702, -0.2577,  0.0259,  0.1250,  0.2295]])), ('bias', tensor([ 0.3504,  0.3286, -0.1921, -0.0061]))])\n",
      "OrderedDict()\n",
      "Parameter containing:\n",
      "tensor([ 0.3504,  0.3286, -0.1921, -0.0061], requires_grad=True)\n"
     ]
    }
   ],
   "source": [
    "print(net[2].state_dict())\n",
    "print(net[1].state_dict())\n",
    "print(net[2].bias)"
   ]
  },
  {
   "cell_type": "code",
   "execution_count": 22,
   "id": "573794e0",
   "metadata": {},
   "outputs": [
    {
     "data": {
      "text/plain": [
       "True"
      ]
     },
     "execution_count": 22,
     "metadata": {},
     "output_type": "execute_result"
    }
   ],
   "source": [
    "net[2].weight.grad == None"
   ]
  },
  {
   "cell_type": "code",
   "execution_count": 23,
   "id": "a96a18f0",
   "metadata": {},
   "outputs": [
    {
     "name": "stdout",
     "output_type": "stream",
     "text": [
      "('weight', torch.Size([8, 4])) ('bias', torch.Size([8]))\n"
     ]
    }
   ],
   "source": [
    "print(*[(name, param.shape) for name, param in net[0].named_parameters()])"
   ]
  },
  {
   "cell_type": "markdown",
   "id": "acdfc8b0",
   "metadata": {},
   "source": [
    "### 从嵌套块收集参数"
   ]
  },
  {
   "cell_type": "code",
   "execution_count": null,
   "id": "58f63cdb",
   "metadata": {},
   "outputs": [],
   "source": []
  }
 ],
 "metadata": {
  "kernelspec": {
   "display_name": "Python 3 (ipykernel)",
   "language": "python",
   "name": "python3"
  },
  "language_info": {
   "codemirror_mode": {
    "name": "ipython",
    "version": 3
   },
   "file_extension": ".py",
   "mimetype": "text/x-python",
   "name": "python",
   "nbconvert_exporter": "python",
   "pygments_lexer": "ipython3",
   "version": "3.7.11"
  }
 },
 "nbformat": 4,
 "nbformat_minor": 5
}
