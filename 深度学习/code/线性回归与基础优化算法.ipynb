{
 "cells": [
  {
   "cell_type": "markdown",
   "id": "1c441ba2",
   "metadata": {},
   "source": [
    "## 线性回归\n",
    "* 线性回归是对n维输入的加权，外加偏差  \n",
    "* 使用平方损失来衡量预测值和真实值的差异，最小化平方损失优化参数  \n",
    "* 线性回归可以看做单层神经网络\n"
   ]
  },
  {
   "cell_type": "markdown",
   "id": "1c57e825",
   "metadata": {},
   "source": [
    "## 基础优化算法\n",
    "### 梯度下降\n",
    "* 挑选一个初始值$ w_0 $    \n",
    "* 重复迭代参数\n",
    " $$ w_t = w_{t-1} - \\eta * \\frac{\\partial\\tau}{\\partial w_{t-1}} $$  \n",
    "    * 沿梯度方向将增加损失函数值  \n",
    "    * 学习率：步长的超参数"
   ]
  },
  {
   "cell_type": "markdown",
   "id": "84794f20",
   "metadata": {},
   "source": [
    "### 小批量随机梯度下降"
   ]
  },
  {
   "cell_type": "markdown",
   "id": "bf345010",
   "metadata": {},
   "source": [
    "* 可以随机采样b个样本$i_1,i_2...$来计算损失  \n",
    "* b是批量大小，另一个重要的超参数"
   ]
  },
  {
   "cell_type": "markdown",
   "id": "afbfd27e",
   "metadata": {},
   "source": [
    "## 总结\n",
    "* 梯度下降通过不断沿着反梯度反向更新参数求解  \n",
    "* 小批量随机梯度下降是深度学习默认的求解算法\n",
    "* 两个重要的超参数是批量大小和学习率\n"
   ]
  },
  {
   "cell_type": "markdown",
   "id": "07ae1a2b",
   "metadata": {},
   "source": [
    "## 线性回归从零开始实现"
   ]
  },
  {
   "cell_type": "code",
   "execution_count": 1,
   "id": "0dbf18bb",
   "metadata": {},
   "outputs": [],
   "source": [
    "%matplotlib inline\n",
    "import random\n",
    "import torch\n",
    "from d2l import torch as d2l"
   ]
  },
  {
   "cell_type": "code",
   "execution_count": 2,
   "id": "3977f52f",
   "metadata": {},
   "outputs": [
    {
     "name": "stdout",
     "output_type": "stream",
     "text": [
      "torch.Size([3, 2])\n",
      "torch.Size([2])\n",
      "tensor([12, 26, 40])\n"
     ]
    }
   ],
   "source": [
    "test1 = torch.tensor([[1, 2],[3, 4], [5, 6]])\n",
    "print(test1.shape)\n",
    "test2 = torch.tensor([2,5])\n",
    "print(test2.shape)\n",
    "test3 = torch.matmul(test1, test2) \n",
    "print(test3)"
   ]
  },
  {
   "cell_type": "code",
   "execution_count": 3,
   "id": "23bd0096",
   "metadata": {},
   "outputs": [
    {
     "name": "stdout",
     "output_type": "stream",
     "text": [
      "torch.Size([1000, 2])\n",
      "torch.Size([2])\n",
      "torch.Size([1000])\n",
      "torch.Size([1000, 2]) torch.Size([1000, 1])\n"
     ]
    }
   ],
   "source": [
    "def synthetic_data(w, b, num_examples):\n",
    "    X = torch.normal(0, 1, (num_examples, len(w)))\n",
    "    print(X.shape)\n",
    "    print(w.shape)\n",
    "    y = torch.matmul(X, w) + b\n",
    "    print(y.shape)\n",
    "    y += torch.normal(0, 0.01, y.shape)\n",
    "    return X, y.reshape((-1, 1)) # 转化为一个列向量，行数由PyTorch确定\n",
    "\n",
    "true_w = torch.tensor([2, -3.4])\n",
    "true_b = 4.2\n",
    "features, labels = synthetic_data(true_w, true_b, 1000)\n",
    "print(features.shape, labels.shape)"
   ]
  },
  {
   "cell_type": "code",
   "execution_count": 4,
   "id": "454046fa",
   "metadata": {},
   "outputs": [
    {
     "data": {
      "image/png": "[encoded data removed]",
      "text/plain": [
       "<Figure size 432x288 with 1 Axes>"
      ]
     },
     "metadata": {
      "needs_background": "light"
     },
     "output_type": "display_data"
    }
   ],
   "source": [
    "d2l.plt.scatter(features[:, 0].detach().numpy(),\n",
    "               labels.detach().numpy(), 1);\n",
    "d2l.plt.scatter(features[:, 1].detach().numpy(),\n",
    "               labels.detach().numpy(), 1);"
   ]
  },
  {
   "cell_type": "code",
   "execution_count": 5,
   "id": "39d3bbdf",
   "metadata": {},
   "outputs": [
    {
     "name": "stdout",
     "output_type": "stream",
     "text": [
      "tensor([[ 0.2837, -1.1415],\n",
      "        [-1.7296,  1.2395],\n",
      "        [-0.4072, -1.0657],\n",
      "        [ 0.8068, -0.5739],\n",
      "        [ 0.9350,  0.6294],\n",
      "        [ 0.9261,  0.0469],\n",
      "        [ 0.5887,  0.1209],\n",
      "        [ 1.0453,  0.0800],\n",
      "        [-0.2462, -1.0009],\n",
      "        [-0.9834, -1.9801]]) \n",
      " tensor([[ 8.6214],\n",
      "        [-3.4714],\n",
      "        [ 7.0171],\n",
      "        [ 7.7414],\n",
      "        [ 3.9347],\n",
      "        [ 5.9025],\n",
      "        [ 4.9878],\n",
      "        [ 6.0245],\n",
      "        [ 7.1194],\n",
      "        [ 8.9537]])\n"
     ]
    }
   ],
   "source": [
    "def data_iter(batch_size, features, labels):\n",
    "    num_examples = len(features)\n",
    "    indices = list(range(num_examples))\n",
    "    # 样本随机读取\n",
    "    random.shuffle(indices)\n",
    "    for i in range(0, num_examples, batch_size):\n",
    "        batch_indices = torch.tensor(\n",
    "            indices[i:min(i + batch_size, num_examples)])\n",
    "        yield features[batch_indices], labels[batch_indices]\n",
    "\n",
    "batch_size = 10\n",
    "\n",
    "for X, y in data_iter(batch_size, features, labels):\n",
    "    print(X, '\\n', y)\n",
    "    break"
   ]
  },
  {
   "cell_type": "markdown",
   "id": "37971665",
   "metadata": {},
   "source": [
    "### 定义初始化模型参数"
   ]
  },
  {
   "cell_type": "code",
   "execution_count": 6,
   "id": "95825b86",
   "metadata": {},
   "outputs": [],
   "source": [
    "w = torch.normal(0, 0.01, size=(2, 1), requires_grad=True)\n",
    "b = torch.zeros(1, requires_grad=True)"
   ]
  },
  {
   "cell_type": "markdown",
   "id": "c687f1e0",
   "metadata": {},
   "source": [
    "### 定义模型"
   ]
  },
  {
   "cell_type": "code",
   "execution_count": 7,
   "id": "abfc2142",
   "metadata": {},
   "outputs": [],
   "source": [
    "def linreg(X, w, b):\n",
    "    \"\"\"线性回归模型\"\"\"\n",
    "    return torch.matmul(X, w) + b"
   ]
  },
  {
   "cell_type": "markdown",
   "id": "38226213",
   "metadata": {},
   "source": [
    "### 定义损失函数"
   ]
  },
  {
   "cell_type": "code",
   "execution_count": 8,
   "id": "4c82a4f6",
   "metadata": {},
   "outputs": [],
   "source": [
    "def squared_loss(y_hat, y):\n",
    "    \"\"\"均方损失\"\"\"\n",
    "    return (y_hat - y.reshape(y_hat.shape))**2 / 2  "
   ]
  },
  {
   "cell_type": "markdown",
   "id": "0c7753b4",
   "metadata": {},
   "source": [
    "### 定义优化算法"
   ]
  },
  {
   "cell_type": "code",
   "execution_count": 9,
   "id": "cd9cbdc8",
   "metadata": {},
   "outputs": [],
   "source": [
    "def sgd(params, lr, batch_size):\n",
    "    \"\"\"小批量随机梯度下降\"\"\"\n",
    "    with torch.no_grad():\n",
    "        for param in params:\n",
    "            param -= lr * param.grad / batch_size\n",
    "            param.grad.zero_()\n",
    "    "
   ]
  },
  {
   "cell_type": "markdown",
   "id": "cd6de7bb",
   "metadata": {},
   "source": [
    "### 训练过程"
   ]
  },
  {
   "cell_type": "code",
   "execution_count": 10,
   "id": "b697b148",
   "metadata": {},
   "outputs": [
    {
     "name": "stdout",
     "output_type": "stream",
     "text": [
      "epoch 1, loss0.037565\n",
      "epoch 2, loss0.000131\n",
      "epoch 3, loss0.000052\n",
      "epoch 4, loss0.000052\n",
      "epoch 5, loss0.000052\n"
     ]
    }
   ],
   "source": [
    "lr = 0.03\n",
    "num_epochs = 5\n",
    "net = linreg\n",
    "loss = squared_loss\n",
    "\n",
    "for epoch in range(num_epochs):\n",
    "    for X, y in data_iter(batch_size, features, labels):\n",
    "        # `x`和`y`的小批量损失\n",
    "        l = loss(net(X, w, b), y)\n",
    "        # `l`的形状为(`batch_size`, 1)，需要求和计算梯度\n",
    "        l.sum().backward()\n",
    "        # 更新参数\n",
    "        sgd([w, b], lr, batch_size)\n",
    "    with torch.no_grad():\n",
    "        train_l = loss(net(features, w, b), labels)\n",
    "        print(f'epoch {epoch +1 }, loss{float(train_l.mean()):f}')"
   ]
  },
  {
   "cell_type": "markdown",
   "id": "68eea459",
   "metadata": {},
   "source": [
    "## 线性回归的简洁实现 "
   ]
  },
  {
   "cell_type": "code",
   "execution_count": 1,
   "id": "9e46e7cd",
   "metadata": {},
   "outputs": [],
   "source": [
    "import numpy as np\n",
    "import torch\n",
    "from torch.utils import data\n",
    "from d2l import torch as d2l\n",
    "\n",
    "true_w = torch.tensor([2, -3.4])\n",
    "true_b = 4.2\n",
    "features, labels = d2l.synthetic_data(true_w, true_b, 1000)"
   ]
  },
  {
   "cell_type": "code",
   "execution_count": 5,
   "id": "0a31b0cb",
   "metadata": {},
   "outputs": [
    {
     "data": {
      "text/plain": [
       "[tensor([[-0.4107,  1.9892],\n",
       "         [ 1.3561, -0.7755],\n",
       "         [ 1.7004,  0.9903],\n",
       "         [-0.0032, -0.9394],\n",
       "         [-0.1631,  1.1513],\n",
       "         [ 0.1327, -0.4551],\n",
       "         [ 0.7742, -0.3475],\n",
       "         [ 1.6557, -0.5504],\n",
       "         [-0.7988,  0.3278],\n",
       "         [ 1.3059, -0.7632]]),\n",
       " tensor([[-3.3856],\n",
       "         [ 9.5573],\n",
       "         [ 4.2293],\n",
       "         [ 7.3921],\n",
       "         [-0.0512],\n",
       "         [ 6.0294],\n",
       "         [ 6.9172],\n",
       "         [ 9.3903],\n",
       "         [ 1.4788],\n",
       "         [ 9.3942]])]"
      ]
     },
     "execution_count": 5,
     "metadata": {},
     "output_type": "execute_result"
    }
   ],
   "source": [
    "# 调用框架中现有的API来读取数据\n",
    "def load_array (data_arrays, batch_size, is_train=True):\n",
    "    \"\"\"构造一个Pytorch数据迭代器\"\"\"\n",
    "    dataset = data.TensorDataset(*data_arrays)\n",
    "    return data.DataLoader(dataset, batch_size, shuffle=is_train)\n",
    "\n",
    "batch_size = 10\n",
    "data_iter = load_array((features, labels), batch_size)\n",
    "\n",
    "# 使用iter构造Python迭代器，并使用next从迭代器中获取第一项\n",
    "next(iter(data_iter))"
   ]
  },
  {
   "cell_type": "markdown",
   "id": "159d409c",
   "metadata": {},
   "source": [
    "### 使用框架预定义好的层"
   ]
  },
  {
   "cell_type": "code",
   "execution_count": 6,
   "id": "8aed661b",
   "metadata": {},
   "outputs": [],
   "source": [
    "from torch import nn\n",
    "\n",
    "# Sequential类为串联在一起的多个层定义了一个容器。\n",
    "# 当给定输入数据，Sequential实例将数据传入到第一层，然后将第一层的输出作为第二层的输入，依此类推。\n",
    "net = nn.Sequential(nn.Linear(2, 1))"
   ]
  },
  {
   "cell_type": "markdown",
   "id": "e312513f",
   "metadata": {},
   "source": [
    "### 初始化模型参数"
   ]
  },
  {
   "cell_type": "code",
   "execution_count": 7,
   "id": "b627e309",
   "metadata": {},
   "outputs": [
    {
     "data": {
      "text/plain": [
       "tensor([0.])"
      ]
     },
     "execution_count": 7,
     "metadata": {},
     "output_type": "execute_result"
    }
   ],
   "source": [
    "net[0].weight.data.normal_(0, 0.01)\n",
    "net[0].bias.data.fill_(0)"
   ]
  },
  {
   "cell_type": "code",
   "execution_count": 8,
   "id": "c126c9de",
   "metadata": {},
   "outputs": [],
   "source": [
    "loss = nn.MSELoss()"
   ]
  },
  {
   "cell_type": "markdown",
   "id": "43e36245",
   "metadata": {},
   "source": [
    "### 实例化`SGD`实例"
   ]
  },
  {
   "cell_type": "code",
   "execution_count": 9,
   "id": "6e31d1fb",
   "metadata": {},
   "outputs": [],
   "source": [
    "trainer = torch.optim.SGD(net.parameters(), lr=0.03)"
   ]
  },
  {
   "cell_type": "code",
   "execution_count": 17,
   "id": "69bfc7c1",
   "metadata": {},
   "outputs": [
    {
     "name": "stdout",
     "output_type": "stream",
     "text": [
      "tensor([[ 0.0012, -0.0108]])\n",
      "epoch1, loss0.000103\n",
      "tensor([[-0.0002, -0.0028]])\n",
      "epoch2, loss0.000104\n",
      "tensor([[0.0014, 0.0043]])\n",
      "epoch3, loss0.000103\n"
     ]
    }
   ],
   "source": [
    "num_epochs = 3\n",
    "for epoch in range(num_epochs):\n",
    "    for X,y in data_iter:\n",
    "        l = loss(net(X), y)\n",
    "        trainer.zero_grad()\n",
    "        l.backward()\n",
    "        trainer.step()\n",
    "       \n",
    "    l = loss(net(features), labels)\n",
    "    print(f'epoch{epoch+1}, loss{l:f}')"
   ]
  }
 ],
 "metadata": {
  "kernelspec": {
   "display_name": "Python 3 (ipykernel)",
   "language": "python",
   "name": "python3"
  },
  "language_info": {
   "codemirror_mode": {
    "name": "ipython",
    "version": 3
   },
   "file_extension": ".py",
   "mimetype": "text/x-python",
   "name": "python",
   "nbconvert_exporter": "python",
   "pygments_lexer": "ipython3",
   "version": "3.7.11"
  }
 },
 "nbformat": 4,
 "nbformat_minor": 5
}
