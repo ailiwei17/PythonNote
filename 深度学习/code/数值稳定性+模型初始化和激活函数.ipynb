{
 "cells": [
  {
   "cell_type": "markdown",
   "id": "69f6870f",
   "metadata": {},
   "source": [
    "### 数值稳定性的两个常见问题\n",
    "* 梯度爆炸   \n",
    "* 梯度消失   "
   ]
  },
  {
   "cell_type": "markdown",
   "id": "11199765",
   "metadata": {},
   "source": [
    "复习矩阵计算"
   ]
  },
  {
   "cell_type": "markdown",
   "id": "be632424",
   "metadata": {},
   "source": [
    "### 让训练更加稳定\n",
    "* 将乘法变加法  \n",
    "* 归一化  \n",
    "* 合理的权重初始和激活函数  "
   ]
  },
  {
   "cell_type": "markdown",
   "id": "db413da4",
   "metadata": {},
   "source": [
    "### 权重初始化\n",
    "* 理想情况 权重期望=0，方差期望=a\n",
    "* 输入层和输出层的大小不能保证，提出Xavier初始化  \n",
    "* 激活函数会对期望和方差产生影响，所以激活函数只能是f(x)=x\n",
    "* 检查常用激活函数并调整"
   ]
  }
 ],
 "metadata": {
  "kernelspec": {
   "display_name": "Python 3 (ipykernel)",
   "language": "python",
   "name": "python3"
  },
  "language_info": {
   "codemirror_mode": {
    "name": "ipython",
    "version": 3
   },
   "file_extension": ".py",
   "mimetype": "text/x-python",
   "name": "python",
   "nbconvert_exporter": "python",
   "pygments_lexer": "ipython3",
   "version": "3.7.11"
  }
 },
 "nbformat": 4,
 "nbformat_minor": 5
}
