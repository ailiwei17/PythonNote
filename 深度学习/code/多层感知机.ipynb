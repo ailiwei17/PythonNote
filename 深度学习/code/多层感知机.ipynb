{
 "cells": [
  {
   "cell_type": "markdown",
   "id": "9ab97a47",
   "metadata": {},
   "source": [
    "## 感知机\n",
    "* 线性回归+二分类：等价于使用批量大小为1的梯度下降(线性回归输出实数，Softmax回归输出概率） \n",
    "* 感知机的收敛定理(数据越多收敛越慢；余量越大，数据越离散，收敛越快）  \n",
    "* 感知机不能拟合XOR函数\n",
    "\n",
    "\n"
   ]
  },
  {
   "cell_type": "markdown",
   "id": "e8b5e3ea",
   "metadata": {},
   "source": [
    "## 多层感知机"
   ]
  },
  {
   "cell_type": "markdown",
   "id": "66772c0d",
   "metadata": {},
   "source": [
    "* 多个条件去判断"
   ]
  },
  {
   "cell_type": "markdown",
   "id": "083f6807",
   "metadata": {},
   "source": [
    "### 单隐藏层\n",
    "* 需要非线性激活函数，否则会退化为简单的线性模型"
   ]
  },
  {
   "cell_type": "markdown",
   "id": "1a63f345",
   "metadata": {},
   "source": [
    "### 多类分类\n",
    "* Softmax算子 + 隐藏层 = 多层感知机 \n",
    "* 输入 $ x \\in \\mathbb R^n $\n",
    "* 隐藏层 $ W_1 \\in \\mathbb R^{m*n}$, $b_1 \\in \\mathbb R^m $\n",
    "* 输出层 $ W_2 \\in \\mathbb R^{m*k}$, $b_2 \\in \\mathbb R^k $   \n",
    "\n",
    "$ h = \\sigma(W_1x+b_1) $       \n",
    "$ o = W_2^Th+b_2 $      \n",
    "$ y = softmax(o) $    \n",
    "  \n"
   ]
  },
  {
   "cell_type": "markdown",
   "id": "3c386e3e",
   "metadata": {},
   "source": [
    "### 多隐藏层\n",
    "超参数(取决于数据复杂度)\n",
    "* 隐藏层数\n",
    "* 每层隐藏层大小(一般来说大小逐渐递减，符合特征复杂但分类类别少)"
   ]
  }
 ],
 "metadata": {
  "kernelspec": {
   "display_name": "Python 3 (ipykernel)",
   "language": "python",
   "name": "python3"
  },
  "language_info": {
   "codemirror_mode": {
    "name": "ipython",
    "version": 3
   },
   "file_extension": ".py",
   "mimetype": "text/x-python",
   "name": "python",
   "nbconvert_exporter": "python",
   "pygments_lexer": "ipython3",
   "version": "3.7.11"
  }
 },
 "nbformat": 4,
 "nbformat_minor": 5
}
